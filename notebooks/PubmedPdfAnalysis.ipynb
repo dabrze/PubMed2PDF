{
 "cells": [
  {
   "cell_type": "code",
   "execution_count": null,
   "metadata": {},
   "outputs": [],
   "source": [
    "import glob\n",
    "import os\n",
    "import re\n",
    "from pdfminer.pdfinterp import PDFResourceManager, PDFPageInterpreter\n",
    "from pdfminer.converter import TextConverter\n",
    "from pdfminer.layout import LAParams\n",
    "from pdfminer.pdfpage import PDFPage\n",
    "from io import StringIO\n",
    "import pandas as pd\n",
    "from tqdm.notebook import tqdm\n",
    "\n",
    "PDF_DIR = '/med/pdbrepo/pdb_pubmed_pdfs/pdfs'\n",
    "TECHNIQUES_FILE = 'biochemical_techniques_list.txt'"
   ]
  },
  {
   "cell_type": "code",
   "execution_count": null,
   "metadata": {},
   "outputs": [],
   "source": [
    "def convert_pdf_to_txt(path, pages=None):\n",
    "    with StringIO() as output:\n",
    "        manager = PDFResourceManager()\n",
    "        \n",
    "        with TextConverter(manager, output, laparams=LAParams()) as converter:\n",
    "            interpreter = PDFPageInterpreter(manager, converter)\n",
    "\n",
    "            with open(path, 'rb') as infile:\n",
    "                for page in PDFPage.get_pages(infile, set()):\n",
    "                    interpreter.process_page(page)\n",
    "\n",
    "        text = output.getvalue()\n",
    "    \n",
    "    return text.replace(\"\\n\", \" \").replace(\"- \", \"\")\n",
    "\n",
    "\n",
    "def create_regex_dict_from_phrases(phrase_list):\n",
    "    phrase_regex_dict = {}\n",
    "    \n",
    "    for phrase in phrase_list:\n",
    "        phrase_regex_dict[phrase] = re.compile(phrase, re.IGNORECASE)\n",
    "        \n",
    "    return phrase_regex_dict\n",
    "\n",
    "\n",
    "def check_if_text_contains_phrases(pubmed_id, text, phrase_regex_dict):\n",
    "    hit_dict = {}\n",
    "    hit_dict[\"PubMed id\"] = pubmed_id\n",
    "    hit_sum = 0\n",
    "    \n",
    "    for phrase in phrase_regex_dict.keys():\n",
    "        is_hit = re.search(phrase_regex_dict[phrase], text) is not None\n",
    "        hit_dict[phrase] = [is_hit]\n",
    "        \n",
    "        if is_hit:\n",
    "            hit_sum += 1\n",
    "        \n",
    "    hit_dict[\"Total number of phrases found\"] = hit_sum\n",
    "        \n",
    "    return pd.DataFrame(hit_dict)\n",
    "\n",
    "\n",
    "def analyze_pdfs(pdfs, phrases_list, max_count=None):\n",
    "    result_df = pd.DataFrame()\n",
    "    phrase_regex_dict = create_regex_dict_from_phrases(phrases_list)\n",
    "\n",
    "    if max_count is not None:\n",
    "        pdfs = pdfs[:max_count]\n",
    "    \n",
    "    for pdf in tqdm(pdfs):\n",
    "        pubmed_id = pdf.split('/')[-1][:-4]\n",
    "        pdf_text = convert_pdf_to_txt(pdf)\n",
    "        hits = check_if_text_contains_phrases(pubmed_id, pdf_text, phrase_regex_dict)\n",
    "        result_df = result_df.append(hits, ignore_index=True)\n",
    "\n",
    "    return result_df"
   ]
  },
  {
   "cell_type": "code",
   "execution_count": null,
   "metadata": {},
   "outputs": [],
   "source": [
    "pubmed_pdfs = glob.glob(f'{PDF_DIR}/*.pdf') \n",
    "with open(TECHNIQUES_FILE) as file:\n",
    "    techniques_list = file.read().rstrip().lower().split('\\n')"
   ]
  },
  {
   "cell_type": "code",
   "execution_count": null,
   "metadata": {},
   "outputs": [],
   "source": [
    "result_df = analyze_pdfs(pubmed_pdfs, techniques_list, max_count=20)\n",
    "result_df.to_csv(\"pdf_phrases.csv\")"
   ]
  },
  {
   "cell_type": "code",
   "execution_count": null,
   "metadata": {},
   "outputs": [],
   "source": [
    "result_df"
   ]
  },
  {
   "cell_type": "code",
   "execution_count": null,
   "metadata": {},
   "outputs": [],
   "source": []
  }
 ],
 "metadata": {
  "kernelspec": {
   "display_name": "Python 3",
   "language": "python",
   "name": "python3"
  },
  "language_info": {
   "codemirror_mode": {
    "name": "ipython",
    "version": 3
   },
   "file_extension": ".py",
   "mimetype": "text/x-python",
   "name": "python",
   "nbconvert_exporter": "python",
   "pygments_lexer": "ipython3",
   "version": "3.7.3"
  }
 },
 "nbformat": 4,
 "nbformat_minor": 1
}
